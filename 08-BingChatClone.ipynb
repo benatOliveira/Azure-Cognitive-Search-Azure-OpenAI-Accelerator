{
 "cells": [
  {
   "cell_type": "markdown",
   "id": "66ab3cc5-aee4-415a-9391-1e5d37ccaf1d",
   "metadata": {},
   "source": [
    "# Internet and Websites Search using Bing API - Bing Chat Clone"
   ]
  },
  {
   "cell_type": "markdown",
   "id": "306fc0a9-4044-441d-9ba7-f54f32e6ea9f",
   "metadata": {},
   "source": [
    "In this notebook, we'll delve into the ways in which you can **boost your GPT Smart Search Engine with web search functionalities**, utilizing both Langchain and the Azure Bing Search API service.\n",
    "\n",
    "As previously discussed in our other notebooks, **harnessing agents and tools is an effective approach**. We aim to leverage the capabilities of OpenAI's large language models (LLM), such as GPT-4 and its successors, to perform the heavy lifting of reasoning and researching on our behalf.\n",
    "\n",
    "There are numerous instances where it is necessary for our Smart Search Engine to have internet access. For instance, we may wish to **enrich an answer with information available on the web**, or **provide users with up-to-date and recent information**, or **finding information on an specific public website**. Regardless of the scenario, we require our engine to base its responses on search results.\n",
    "\n",
    "By the conclusion of this notebook, you'll have a solid understanding of the Bing Search API basics, including **how to create a Web Search Agent using the Bing Search API**, and how these tools can strengthen your chatbot. Additionally, you'll learn about **Callback Handlers, their use, and their significance in bot applications**."
   ]
  },
  {
   "cell_type": "code",
   "execution_count": 1,
   "id": "c1fb79a3-4856-4721-988c-112813690a90",
   "metadata": {},
   "outputs": [],
   "source": [
    "import requests\n",
    "from typing import Dict, List\n",
    "from pydantic import BaseModel, Extra, root_validator\n",
    "\n",
    "from langchain.chat_models import AzureChatOpenAI\n",
    "from langchain.agents import AgentExecutor\n",
    "from langchain.callbacks.manager import CallbackManager\n",
    "from langchain.agents import initialize_agent, AgentType\n",
    "from langchain.tools import BaseTool\n",
    "from langchain.utilities import BingSearchAPIWrapper\n",
    "\n",
    "from common.callbacks import StdOutCallbackHandler\n",
    "from common.prompts import BING_PROMPT_PREFIX\n",
    "\n",
    "from IPython.display import Markdown, HTML, display  \n",
    "\n",
    "from dotenv import load_dotenv\n",
    "load_dotenv(\"credentials.env\")\n",
    "\n",
    "def printmd(string):\n",
    "    display(Markdown(string.replace(\"$\",\"USD \")))\n",
    "\n",
    "# GPT-4 models are necessary for this feature. GPT-35-turbo will make mistakes multiple times on following system prompt instructions.\n",
    "MODEL_DEPLOYMENT_NAME = \"gpt-4-32k\" "
   ]
  },
  {
   "cell_type": "code",
   "execution_count": 2,
   "id": "258a6e99-2d4f-4147-b8ee-c64c85296181",
   "metadata": {},
   "outputs": [],
   "source": [
    "# Set the ENV variables that Langchain needs to connect to Azure OpenAI\n",
    "os.environ[\"OPENAI_API_VERSION\"] = os.environ[\"AZURE_OPENAI_API_VERSION\"]"
   ]
  },
  {
   "cell_type": "markdown",
   "id": "1e8e0b32-a6b5-4b1c-943d-e57b737213fa",
   "metadata": {},
   "source": [
    "## Introduction to Callback Handlers"
   ]
  },
  {
   "cell_type": "markdown",
   "id": "003327ac-2851-48ef-8a6b-2d8c2004bb2e",
   "metadata": {},
   "source": [
    "This following explanation comes directly from the Langchain documentation about Callbacks ([HERE](https://python.langchain.com/docs/modules/callbacks/)):\n",
    "\n",
    "**Callbacks**:<br>\n",
    "LangChain provides a callbacks system that allows you to hook into the various stages of your LLM application. This is useful for logging, monitoring, streaming, and other tasks. You can subscribe to these events by using the callbacks argument available throughout the API. This argument is list of handler objects.\n",
    "\n",
    "**Callback handlers**:<br>\n",
    "CallbackHandlers are objects that implement the CallbackHandler interface, which has a method for each event that can be subscribed to. The CallbackManager will call the appropriate method on each handler when the event is triggered.\n",
    "\n",
    "--------------------\n",
    "We will incorporate a handler for the callbacks, enabling us to observe the response as it streams and to gain insights into the Agent's reasoning process. This will prove incredibly valuable when we aim to stream the bot's responses to users and keep them informed about the ongoing process as they await the answer.\n",
    "\n",
    "Our custom handler is on the folder `common/callbacks.py`. Go and take a look at it."
   ]
  },
  {
   "cell_type": "code",
   "execution_count": 3,
   "id": "9d3daf03-77e2-466e-a255-2f06bee3561b",
   "metadata": {},
   "outputs": [],
   "source": [
    "cb_handler = StdOutCallbackHandler()\n",
    "cb_manager = CallbackManager(handlers=[cb_handler])\n",
    "\n",
    "# Now we declare our LLM object with the callback handler \n",
    "llm = AzureChatOpenAI(deployment_name=MODEL_DEPLOYMENT_NAME, temperature=0, max_tokens=1000)\n",
    "\n",
    "# or uncomment the below line if you want to see the responses being streamed\n",
    "llm = AzureChatOpenAI(deployment_name=MODEL_DEPLOYMENT_NAME, temperature=0, max_tokens=1000, streaming=True, callback_manager=cb_manager)"
   ]
  },
  {
   "cell_type": "markdown",
   "id": "11da70c2-60b6-47fb-94f1-aa11291fa40c",
   "metadata": {},
   "source": [
    "## Creating a custom tool - Bing Search API tool"
   ]
  },
  {
   "cell_type": "markdown",
   "id": "4dc30c9d-605d-4ada-9358-f926aeed2e48",
   "metadata": {},
   "source": [
    "Langhain has already a pre-created tool called BingSearchAPIWrapper ([HERE](https://github.com/hwchase17/langchain/blob/master/langchain/utilities/bing_search.py)), however we are going to make it a bit better by using the results function instead of the run function, that way we not only have the text results, but also the title and link(source) of each snippet."
   ]
  },
  {
   "cell_type": "code",
   "execution_count": 4,
   "id": "d3d155ae-16eb-458a-b2ed-5aa9a9b84ed8",
   "metadata": {},
   "outputs": [],
   "source": [
    "class MyBingSearch(BaseTool):\n",
    "    \"\"\"Tool for a Bing Search Wrapper\"\"\"\n",
    "    \n",
    "    name = \"@bing\"\n",
    "    description = \"useful when the questions includes the term: @bing.\\n\"\n",
    "\n",
    "    k: int = 5\n",
    "    \n",
    "    def _run(self, query: str) -> str:\n",
    "        bing = BingSearchAPIWrapper(k=self.k)\n",
    "        return bing.results(query,num_results=self.k)\n",
    "            \n",
    "    async def _arun(self, query: str) -> str:\n",
    "        \"\"\"Use the tool asynchronously.\"\"\"\n",
    "        raise NotImplementedError(\"This Tool does not support async\")"
   ]
  },
  {
   "cell_type": "markdown",
   "id": "0a3d6569-0c61-4b1c-9263-431304577551",
   "metadata": {},
   "source": [
    "Now, we create our REACT agent that uses our custom tool and our custom prompt `BING_PROMPT_PREFIX`"
   ]
  },
  {
   "cell_type": "code",
   "execution_count": 5,
   "id": "2c6cf721-76bb-47b6-aeeb-9ff4ff92b1f4",
   "metadata": {},
   "outputs": [],
   "source": [
    "tools = [MyBingSearch(k=5)]\n",
    "agent_executor = initialize_agent(tools, llm, agent=AgentType.ZERO_SHOT_REACT_DESCRIPTION, \n",
    "                         agent_kwargs={'prefix':BING_PROMPT_PREFIX}, callback_manager=cb_manager, )"
   ]
  },
  {
   "cell_type": "markdown",
   "id": "7232260e-e972-4288-b0b5-0b605e584528",
   "metadata": {},
   "source": [
    "Try some of the below questions, or others that you might like"
   ]
  },
  {
   "cell_type": "code",
   "execution_count": 6,
   "id": "fa949cea-c9aa-4529-a75f-61084ffffd7e",
   "metadata": {},
   "outputs": [],
   "source": [
    "# QUESTION = \"Create a list with the main facts on What is happening with the oil supply in the world right now?\"\n",
    "# QUESTION = \"How much is 50 USD in Euros and is it enough for an average hotel in Madrid?\"\n",
    "# QUESTION = \"My son needs to build a pinewood car for a pinewood derbi, how do I build such a car?\"\n",
    "# QUESTION = \"Who won the 2023 superbowl and who was the MVP?\"\n",
    "# QUESTION = \"can I travel to Hawaii, Maui from Dallas, TX for 7 days with $7000 on the month of September, what are the best days to travel?\"\n",
    "\n",
    "\n",
    "# This complex question below needs gpt-4-32k (0613 version) in order to ensure a good answer. \n",
    "# ---------------\n",
    "QUESTION = \"\"\"\n",
    "compare the number of job opennings (provide the exact number), the average salary within 15 miles of Dallas, TX, for these ocupations:\n",
    "\n",
    "- ADN Registerd Nurse \n",
    "- Occupational therapist assistant\n",
    "- Dental Hygienist\n",
    "- Graphic Designer\n",
    "- Real Estate Agent\n",
    "\n",
    "\n",
    "Create a table with your findings. Place the sources on each cell.\n",
    "\"\"\""
   ]
  },
  {
   "cell_type": "code",
   "execution_count": 7,
   "id": "ca910f71-60fb-4758-b4a9-757e37eb421f",
   "metadata": {},
   "outputs": [
    {
     "name": "stdout",
     "output_type": "stream",
     "text": [
      "The user is asking for a comparison of job openings and average salaries for five different occupations within a 15-mile radius of Dallas, TX. I will need to perform multiple searches to gather this information. I will start by searching for the number of job openings and average salary for an ADN Registered Nurse in Dallas, TX. \n",
      "\n",
      "Action: @bing\n",
      "Action Input: ADN Registered Nurse job openings and average salary within 15 miles of Dallas, TXThe user is asking for a comparison of job openings and average salaries for five different occupations within a 15-mile radius of Dallas, TX. I will need to perform multiple searches to gather this information. I will start by searching for the number of job openings and average salary for an ADN Registered Nurse in Dallas, TX. \n",
      "\n",
      "Action: @bing\n",
      "Action Input: ADN Registered Nurse job openings and average salary within 15 miles of Dallas, TX\n",
      "The search results show that there are approximately 1,022 job openings for ADN Registered Nurses within 15 miles of Dallas, TX. The average hourly pay for an ADN Nurse in Dallas is $33.36. I will now search for the number of job openings and average salary for an Occupational Therapist Assistant in Dallas, TX.\n",
      "\n",
      "Action: @bing\n",
      "Action Input: Occupational Therapist Assistant job openings and average salary within 15 miles of Dallas, TXThe search results show that there are approximately 1,022 job openings for ADN Registered Nurses within 15 miles of Dallas, TX. The average hourly pay for an ADN Nurse in Dallas is $33.36. I will now search for the number of job openings and average salary for an Occupational Therapist Assistant in Dallas, TX.\n",
      "\n",
      "Action: @bing\n",
      "Action Input: Occupational Therapist Assistant job openings and average salary within 15 miles of Dallas, TX\n",
      "The search results show that there are approximately 256 job openings for Occupational Therapist Assistants within 15 miles of Dallas, TX. The average hourly pay for a Certified Occupational Therapy Assistant in Dallas is $38.87. I will now search for the number of job openings and average salary for a Dental Hygienist in Dallas, TX.\n",
      "\n",
      "Action: @bing\n",
      "Action Input: Dental Hygienist job openings and average salary within 15 miles of Dallas, TXThe search results show that there are approximately 256 job openings for Occupational Therapist Assistants within 15 miles of Dallas, TX. The average hourly pay for a Certified Occupational Therapy Assistant in Dallas is $38.87. I will now search for the number of job openings and average salary for a Dental Hygienist in Dallas, TX.\n",
      "\n",
      "Action: @bing\n",
      "Action Input: Dental Hygienist job openings and average salary within 15 miles of Dallas, TX\n",
      "The search results show that there are approximately 348 job openings for Dental Hygienists within 15 miles of Dallas, TX. The average hourly pay for a Dental Hygienist in Dallas is $48.11. I will now search for the number of job openings and average salary for a Graphic Designer in Dallas, TX.\n",
      "\n",
      "Action: @bing\n",
      "Action Input: Graphic Designer job openings and average salary within 15 miles of Dallas, TXThe search results show that there are approximately 348 job openings for Dental Hygienists within 15 miles of Dallas, TX. The average hourly pay for a Dental Hygienist in Dallas is $48.11. I will now search for the number of job openings and average salary for a Graphic Designer in Dallas, TX.\n",
      "\n",
      "Action: @bing\n",
      "Action Input: Graphic Designer job openings and average salary within 15 miles of Dallas, TX\n",
      "The search results show that there are approximately 146 job openings for Graphic Designers within 15 miles of Dallas, TX. The average hourly pay for a Graphic Designer in Dallas is $34.44. I will now search for the number of job openings and average salary for a Real Estate Agent in Dallas, TX.\n",
      "\n",
      "Action: @bing\n",
      "Action Input: Real Estate Agent job openings and average salary within 15 miles of Dallas, TXThe search results show that there are approximately 146 job openings for Graphic Designers within 15 miles of Dallas, TX. The average hourly pay for a Graphic Designer in Dallas is $34.44. I will now search for the number of job openings and average salary for a Real Estate Agent in Dallas, TX.\n",
      "\n",
      "Action: @bing\n",
      "Action Input: Real Estate Agent job openings and average salary within 15 miles of Dallas, TX\n",
      "The search results show that there are approximately 302 job openings for Real Estate Agents within 15 miles of Dallas, TX. The average annual salary for a Real Estate Agent in Dallas is $97,851. Now that I have all the information, I can compile it into a table.\n",
      "\n",
      "Final Answer: Here is the comparison of job openings and average salaries for the specified occupations within a 15-mile radius of Dallas, TX:\n",
      "\n",
      "| Occupation | Number of Job Openings | Average Salary | Source |\n",
      "| --- | --- | --- | --- |\n",
      "| ADN Registered Nurse | 1,022 | $33.36 per hour<sup><a href=\"https://www.ziprecruiter.com/Salaries/ADN-Nurse-Salary-in-Dallas,TX\" target=\"_blank\">[1]</a></sup> | <sup><a href=\"https://www.indeed.com/q-RN-Adn-l-Dallas,-TX-jobs.html\" target=\"_blank\">[1]</a></sup> |\n",
      "| Occupational Therapist Assistant | 256 | $38.87 per hour<sup><a href=\"https://www.indeed.com/career/certified-occupational-therapy-assistant/salaries/Dallas--TX\" target=\"_blank\">[2]</a></sup> | <sup><a href=\"https://www.indeed.com/q-Occupational-Therapy-Assistant-l-Dallas,-TX-jobs.html\" target=\"_blank\">[2]</a></sup> |\n",
      "| Dental Hygienist | 348 | $48.11 per hour<sup><a href=\"https://www.indeed.com/career/dental-hygienist/salaries/Dallas--TX\" target=\"_blank\">[3]</a></sup> | <sup><a href=\"https://www.indeed.com/q-Dental-Hygientist-l-Dallas,-TX-jobs.html\" target=\"_blank\">[3]</a></sup> |\n",
      "| Graphic Designer | 146 | $34.44 per hour<sup><a href=\"https://www.indeed.com/career/graphic-designer/salaries/Dallas--TX\" target=\"_blank\">[4]</a></sup> | <sup><a href=\"https://www.indeed.com/q-Graphic-Design-l-Dallas,-TX-jobs.html\" target=\"_blank\">[4]</a></sup> |\n",
      "| Real Estate Agent | 302 | $97,851 per year<sup><a href=\"https://www.indeed.com/career/real-estate-agent/salaries/Dallas--TX\" target=\"_blank\">[5]</a></sup> | <sup><a href=\"https://www.indeed.com/q-Real-Estate-Agent-l-Dallas,-TX-jobs.html\" target=\"_blank\">[5]</a></sup> |\n",
      "\n",
      "Please note that these numbers are approximate and can vary."
     ]
    }
   ],
   "source": [
    "#As LLMs responses are never the same, we do a for loop in case the answer cannot be parsed according to our prompt instructions\n",
    "for i in range(2):\n",
    "    try:\n",
    "        response = agent_executor.run(QUESTION) \n",
    "        break\n",
    "    except Exception as e:\n",
    "        response = str(e)\n",
    "        continue"
   ]
  },
  {
   "cell_type": "code",
   "execution_count": 8,
   "id": "25a410b2-9950-43f5-8f14-b333bdc24ff2",
   "metadata": {},
   "outputs": [
    {
     "data": {
      "text/markdown": [
       "Here is the comparison of job openings and average salaries for the specified occupations within a 15-mile radius of Dallas, TX:\n",
       "\n",
       "| Occupation | Number of Job Openings | Average Salary | Source |\n",
       "| --- | --- | --- | --- |\n",
       "| ADN Registered Nurse | 1,022 | USD 33.36 per hour<sup><a href=\"https://www.ziprecruiter.com/Salaries/ADN-Nurse-Salary-in-Dallas,TX\" target=\"_blank\">[1]</a></sup> | <sup><a href=\"https://www.indeed.com/q-RN-Adn-l-Dallas,-TX-jobs.html\" target=\"_blank\">[1]</a></sup> |\n",
       "| Occupational Therapist Assistant | 256 | USD 38.87 per hour<sup><a href=\"https://www.indeed.com/career/certified-occupational-therapy-assistant/salaries/Dallas--TX\" target=\"_blank\">[2]</a></sup> | <sup><a href=\"https://www.indeed.com/q-Occupational-Therapy-Assistant-l-Dallas,-TX-jobs.html\" target=\"_blank\">[2]</a></sup> |\n",
       "| Dental Hygienist | 348 | USD 48.11 per hour<sup><a href=\"https://www.indeed.com/career/dental-hygienist/salaries/Dallas--TX\" target=\"_blank\">[3]</a></sup> | <sup><a href=\"https://www.indeed.com/q-Dental-Hygientist-l-Dallas,-TX-jobs.html\" target=\"_blank\">[3]</a></sup> |\n",
       "| Graphic Designer | 146 | USD 34.44 per hour<sup><a href=\"https://www.indeed.com/career/graphic-designer/salaries/Dallas--TX\" target=\"_blank\">[4]</a></sup> | <sup><a href=\"https://www.indeed.com/q-Graphic-Design-l-Dallas,-TX-jobs.html\" target=\"_blank\">[4]</a></sup> |\n",
       "| Real Estate Agent | 302 | USD 97,851 per year<sup><a href=\"https://www.indeed.com/career/real-estate-agent/salaries/Dallas--TX\" target=\"_blank\">[5]</a></sup> | <sup><a href=\"https://www.indeed.com/q-Real-Estate-Agent-l-Dallas,-TX-jobs.html\" target=\"_blank\">[5]</a></sup> |\n",
       "\n",
       "Please note that these numbers are approximate and can vary."
      ],
      "text/plain": [
       "<IPython.core.display.Markdown object>"
      ]
     },
     "metadata": {},
     "output_type": "display_data"
    }
   ],
   "source": [
    "printmd(response)"
   ]
  },
  {
   "cell_type": "markdown",
   "id": "e9ba3e35-8021-4262-8494-d1aee3862f7e",
   "metadata": {},
   "source": [
    "## QnA to specific websites\n",
    "\n",
    "There are several use cases where we want the smart bot to answer questions about a specific company's public website. There are two approaches we can take:\n",
    "\n",
    "1. Create a crawler script that runs regularly, finds every page on the website, and pushes the documents to Azure Cognitive Search.\n",
    "2. Since Bing has likely already indexed the public website, we can utilize Bing search targeted specifically to that site, rather than attempting to index the site ourselves and duplicate the work already done by Bing's crawler.\n",
    "\n",
    "Below are some sample questions related to specific sites. Take a look:"
   ]
  },
  {
   "cell_type": "code",
   "execution_count": 9,
   "id": "e925ee4a-d295-4815-9e8c-bd6999f48892",
   "metadata": {},
   "outputs": [],
   "source": [
    "# QUESTION = \"information on how to kill wasps in homedepot.com\"\n",
    "# QUESTION = \"in target.com, find how what's the price of a Nesspresso coffee machine and of a Keurig coffee machine\"\n",
    "# QUESTION = \"in microsoft.com, find out what is the latests news on quantum computing\"\n",
    "QUESTION = \"give me on a list the main points on the latest investor report from mondelezinternational.com\""
   ]
  },
  {
   "cell_type": "code",
   "execution_count": 10,
   "id": "099830a1-b81d-4698-a458-e84ccf3989cc",
   "metadata": {},
   "outputs": [
    {
     "name": "stdout",
     "output_type": "stream",
     "text": [
      "The user is asking for the main points from the latest investor report from Mondelez International. I will need to search for this specific report on the Mondelez International website.\n",
      "Action: @bing\n",
      "Action Input: latest investor report site:mondelezinternational.comThe user is asking for the main points from the latest investor report from Mondelez International. I will need to search for this specific report on the Mondelez International website.\n",
      "Action: @bing\n",
      "Action Input: latest investor report site:mondelezinternational.com\n",
      "The search results provide some information about the latest investor report from Mondelez International. However, the details are not comprehensive. I will need to perform another search on the Mondelez International website to gather more information.\n",
      "Action: @bing\n",
      "Action Input: site:https://ir.mondelezinternational.com/ latest investor reportThe search results provide some information about the latest investor report from Mondelez International. However, the details are not comprehensive. I will need to perform another search on the Mondelez International website to gather more information.\n",
      "Action: @bing\n",
      "Action Input: site:https://ir.mondelezinternational.com/ latest investor report\n",
      "The search results provide more detailed information about the latest investor report from Mondelez International. I can now compile the main points from the report.\n",
      "Final Answer: The main points from the latest investor report from Mondelez International are:\n",
      "\n",
      "- Net revenues increased by 8.0%, driven by Organic Net Revenue growth of 5.2%, favorable currency, and acquisitions.\n",
      "- Diluted EPS was $3.04, up 23.1%.\n",
      "- Adjusted EPS was $2.87, up 9.0% on a constant-currency basis.\n",
      "- Cash provided by operating activities was $4.1 billion, an increase of $0.2 billion versus the prior year.\n",
      "- Free Cash Flow was $3.2 billion, an increase of $0.1 billion.\n",
      "- The company received proceeds of approximately $1.0 billion and recorded a pre-tax gain of $493 million (or $366 million after tax) during the first quarter of 2023.\n",
      "- The company has recorded a total gain on marketable securities of $593 million for the nine months ended September 30, 2023.<sup><a href=\"https://ir.mondelezinternational.com/news-releases/news-release-details/mondelez-international-reports-q4-and-fy-2021-results\" target=\"_blank\">[1]</a></sup><sup><a href=\"https://ir.mondelezinternational.com/news-releases/news-release-details/mondelez-international-reports-q3-2023-results\" target=\"_blank\">[2]</a></sup>\n",
      "\n",
      "Is there anything else you would like to know?"
     ]
    }
   ],
   "source": [
    "#As LLMs responses are never the same, we do a for loop in case the answer cannot be parsed according to our prompt instructions\n",
    "for i in range(3):\n",
    "    try:\n",
    "        response = agent_executor.run(QUESTION) \n",
    "        break\n",
    "    except Exception as e:\n",
    "        response = str(e)\n",
    "        continue"
   ]
  },
  {
   "cell_type": "code",
   "execution_count": 11,
   "id": "89e67095-277d-45b6-84aa-acef0eb6cf5f",
   "metadata": {},
   "outputs": [
    {
     "data": {
      "text/markdown": [
       "The main points from the latest investor report from Mondelez International are:\n",
       "\n",
       "- Net revenues increased by 8.0%, driven by Organic Net Revenue growth of 5.2%, favorable currency, and acquisitions.\n",
       "- Diluted EPS was USD 3.04, up 23.1%.\n",
       "- Adjusted EPS was USD 2.87, up 9.0% on a constant-currency basis.\n",
       "- Cash provided by operating activities was USD 4.1 billion, an increase of USD 0.2 billion versus the prior year.\n",
       "- Free Cash Flow was USD 3.2 billion, an increase of USD 0.1 billion.\n",
       "- The company received proceeds of approximately USD 1.0 billion and recorded a pre-tax gain of USD 493 million (or USD 366 million after tax) during the first quarter of 2023.\n",
       "- The company has recorded a total gain on marketable securities of USD 593 million for the nine months ended September 30, 2023.<sup><a href=\"https://ir.mondelezinternational.com/news-releases/news-release-details/mondelez-international-reports-q4-and-fy-2021-results\" target=\"_blank\">[1]</a></sup><sup><a href=\"https://ir.mondelezinternational.com/news-releases/news-release-details/mondelez-international-reports-q3-2023-results\" target=\"_blank\">[2]</a></sup>\n",
       "\n",
       "Is there anything else you would like to know?"
      ],
      "text/plain": [
       "<IPython.core.display.Markdown object>"
      ]
     },
     "metadata": {},
     "output_type": "display_data"
    }
   ],
   "source": [
    "printmd(response)"
   ]
  },
  {
   "cell_type": "code",
   "execution_count": 12,
   "id": "9782fafa-9453-46be-b9d7-b33088f61ac8",
   "metadata": {},
   "outputs": [],
   "source": [
    "# Uncomment if you want to take a look at the custom bing search prompt (This is where the magic happens: a great system promp + GPT-4)\n",
    "# printmd(agent_executor.agent.llm_chain.prompt.template)"
   ]
  },
  {
   "cell_type": "markdown",
   "id": "56cbc405-26e2-471e-9626-2a0df07f5ddc",
   "metadata": {},
   "source": [
    "# Summary"
   ]
  },
  {
   "cell_type": "markdown",
   "id": "7381ea5f-7269-4e1f-8b0c-1e2c04bd84c0",
   "metadata": {},
   "source": [
    "In this notebook, we learned about Callback Handlers and how to stream the response from the LLM. We also learn how to create a Bing Chat clone using a clever prompt with specific search and formatting instructions.\n",
    "\n",
    "The outcome is an agent capable of conducting intelligent web searches and performing research on our behalf. This agent provides us with answers to our questions along with appropriate URL citations and links!"
   ]
  },
  {
   "cell_type": "markdown",
   "id": "02073623-91b4-40d6-8eaf-cb6d9c6a7a9a",
   "metadata": {},
   "source": [
    "# NEXT\n",
    "\n",
    "The Next Notebook will guide you on how we stick everything together. How do we use the features of all notebooks and create a brain agent that can respond to any request accordingly."
   ]
  },
  {
   "cell_type": "code",
   "execution_count": null,
   "id": "aa47ca6f-ec36-4395-8062-487c2c339534",
   "metadata": {},
   "outputs": [],
   "source": []
  }
 ],
 "metadata": {
  "kernelspec": {
   "display_name": "Python 3.10 - SDK v2",
   "language": "python",
   "name": "python310-sdkv2"
  },
  "language_info": {
   "codemirror_mode": {
    "name": "ipython",
    "version": 3
   },
   "file_extension": ".py",
   "mimetype": "text/x-python",
   "name": "python",
   "nbconvert_exporter": "python",
   "pygments_lexer": "ipython3",
   "version": "3.10.11"
  }
 },
 "nbformat": 4,
 "nbformat_minor": 5
}
